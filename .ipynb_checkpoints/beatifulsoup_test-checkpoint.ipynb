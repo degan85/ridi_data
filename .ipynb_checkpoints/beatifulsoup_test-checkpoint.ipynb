{
 "cells": [
  {
   "cell_type": "code",
   "execution_count": 81,
   "metadata": {},
   "outputs": [],
   "source": [
    "from urllib.request import urlopen\n",
    "from bs4 import BeautifulSoup\n",
    "import re"
   ]
  },
  {
   "cell_type": "code",
   "execution_count": null,
   "metadata": {},
   "outputs": [],
   "source": [
    "url="
   ]
  },
  {
   "cell_type": "code",
   "execution_count": 10,
   "metadata": {},
   "outputs": [],
   "source": [
    "def getTitle(url):\n",
    "    try:\n",
    "        html = urlopen(url)\n",
    "    except HTTPError as e:\n",
    "        return None\n",
    "    try:\n",
    "        bsObj = BeautifulSoup(html.read(), \"html.parser\")\n",
    "        title = bsObj.body.h1\n",
    "    except AttributeError as e:\n",
    "        return None\n",
    "    return title"
   ]
  },
  {
   "cell_type": "code",
   "execution_count": 21,
   "metadata": {},
   "outputs": [
    {
     "name": "stdout",
     "output_type": "stream",
     "text": [
      "\n",
      "\n",
      "RIDIBOOKS\n",
      "\n",
      "\n"
     ]
    }
   ],
   "source": [
    "title = getTitle(\"https://ridibooks.com/reading-note/detail/1546000202\")\n",
    "if title == None:\n",
    "    print(\"Title could not be found\")\n",
    "else:\n",
    "    print(title.get_text())"
   ]
  },
  {
   "cell_type": "code",
   "execution_count": 23,
   "metadata": {},
   "outputs": [],
   "source": [
    "html = urlopen(\"https://ridibooks.com/reading-note/detail/1546000202\")\n",
    "bsObj = BeautifulSoup(html, \"html.parser\")\n",
    "note_highlighter_List = bsObj.findAll(\"p\", {\"class\":\"note_highlighter\"})\n",
    "#print(nameList)\n",
    "for name in note_highlighter_List:\n",
    "    print(name.get_text())"
   ]
  },
  {
   "cell_type": "code",
   "execution_count": 39,
   "metadata": {
    "scrolled": false
   },
   "outputs": [
    {
     "ename": "UnicodeDecodeError",
     "evalue": "'cp949' codec can't decode byte 0x85 in position 493: illegal multibyte sequence",
     "output_type": "error",
     "traceback": [
      "\u001b[1;31m---------------------------------------------------------------------------\u001b[0m",
      "\u001b[1;31mUnicodeDecodeError\u001b[0m                        Traceback (most recent call last)",
      "\u001b[1;32m<ipython-input-39-8ce831e0673e>\u001b[0m in \u001b[0;36m<module>\u001b[1;34m()\u001b[0m\n\u001b[0;32m      1\u001b[0m \u001b[1;31m# 리디북스\u001b[0m\u001b[1;33m\u001b[0m\u001b[1;33m\u001b[0m\u001b[0m\n\u001b[1;32m----> 2\u001b[1;33m \u001b[0msoup\u001b[0m \u001b[1;33m=\u001b[0m \u001b[0mBeautifulSoup\u001b[0m\u001b[1;33m(\u001b[0m\u001b[0mopen\u001b[0m\u001b[1;33m(\u001b[0m\u001b[1;34m\"C:\\grit.html\"\u001b[0m\u001b[1;33m)\u001b[0m\u001b[1;33m,\u001b[0m \u001b[1;34m\"html.parser\"\u001b[0m\u001b[1;33m)\u001b[0m\u001b[1;33m\u001b[0m\u001b[0m\n\u001b[0m\u001b[0;32m      3\u001b[0m \u001b[1;33m\u001b[0m\u001b[0m\n\u001b[0;32m      4\u001b[0m \u001b[1;32mfor\u001b[0m \u001b[0mcity\u001b[0m \u001b[1;32min\u001b[0m \u001b[0msoup\u001b[0m\u001b[1;33m.\u001b[0m\u001b[0mfind_all\u001b[0m\u001b[1;33m(\u001b[0m\u001b[1;34m'span'\u001b[0m\u001b[1;33m,\u001b[0m \u001b[1;33m{\u001b[0m\u001b[1;34m'class'\u001b[0m \u001b[1;33m:\u001b[0m \u001b[1;34m'city-sh'\u001b[0m\u001b[1;33m}\u001b[0m\u001b[1;33m)\u001b[0m\u001b[1;33m:\u001b[0m\u001b[1;33m\u001b[0m\u001b[0m\n\u001b[0;32m      5\u001b[0m     \u001b[0mprint\u001b[0m\u001b[1;33m(\u001b[0m\u001b[0mcity\u001b[0m\u001b[1;33m)\u001b[0m\u001b[1;33m\u001b[0m\u001b[0m\n",
      "\u001b[1;32mc:\\dev\\python36\\lib\\site-packages\\bs4\\__init__.py\u001b[0m in \u001b[0;36m__init__\u001b[1;34m(self, markup, features, builder, parse_only, from_encoding, exclude_encodings, **kwargs)\u001b[0m\n\u001b[0;32m    189\u001b[0m \u001b[1;33m\u001b[0m\u001b[0m\n\u001b[0;32m    190\u001b[0m         \u001b[1;32mif\u001b[0m \u001b[0mhasattr\u001b[0m\u001b[1;33m(\u001b[0m\u001b[0mmarkup\u001b[0m\u001b[1;33m,\u001b[0m \u001b[1;34m'read'\u001b[0m\u001b[1;33m)\u001b[0m\u001b[1;33m:\u001b[0m        \u001b[1;31m# It's a file-type object.\u001b[0m\u001b[1;33m\u001b[0m\u001b[0m\n\u001b[1;32m--> 191\u001b[1;33m             \u001b[0mmarkup\u001b[0m \u001b[1;33m=\u001b[0m \u001b[0mmarkup\u001b[0m\u001b[1;33m.\u001b[0m\u001b[0mread\u001b[0m\u001b[1;33m(\u001b[0m\u001b[1;33m)\u001b[0m\u001b[1;33m\u001b[0m\u001b[0m\n\u001b[0m\u001b[0;32m    192\u001b[0m         elif len(markup) <= 256 and (\n\u001b[0;32m    193\u001b[0m                 \u001b[1;33m(\u001b[0m\u001b[0misinstance\u001b[0m\u001b[1;33m(\u001b[0m\u001b[0mmarkup\u001b[0m\u001b[1;33m,\u001b[0m \u001b[0mbytes\u001b[0m\u001b[1;33m)\u001b[0m \u001b[1;32mand\u001b[0m \u001b[1;32mnot\u001b[0m \u001b[1;34mb'<'\u001b[0m \u001b[1;32min\u001b[0m \u001b[0mmarkup\u001b[0m\u001b[1;33m)\u001b[0m\u001b[1;33m\u001b[0m\u001b[0m\n",
      "\u001b[1;31mUnicodeDecodeError\u001b[0m: 'cp949' codec can't decode byte 0x85 in position 493: illegal multibyte sequence"
     ]
    }
   ],
   "source": [
    "# 리디북스\n",
    "soup = BeautifulSoup(open(\"C:\\grit.html\"), \"html.parser\")\n",
    "\n",
    "for city in soup.find_all('span', {'class' : 'city-sh'}):\n",
    "    print(city)"
   ]
  },
  {
   "cell_type": "code",
   "execution_count": 206,
   "metadata": {},
   "outputs": [
    {
     "name": "stdout",
     "output_type": "stream",
     "text": [
      "\n",
      "      “모든 완전한 것에 대해 우리는 그것이 어떻게 생겨났는지 묻지 않는다.” 니체는 말했다.8 대신 “우리는 마치 그것이 마법에 의해 땅에서 솟아난 것처럼 현재의 사실만을 즐긴다.”9\n",
      "    \n",
      "\n",
      "      “아무도 예술가의 작품 속에서 그것이 완성되기까지의 과정을 보지 못한다.” 니체는 말했다. “그 편이 나은 점도 있다. 작품으로 완성되는 과정을 보게 되는 경우에는 언제나 반응이 다소 시들해지기 때문이다.\n",
      "    \n",
      "\n",
      "      “우리의 허영심과 자기애가 천재 숭배를 조장한다.” 니체가 말했다.11 “왜냐하면 천재를 마법적인 존재로 생각한다면 우리 자신과 비교하고 우리의 부족함을 느끼지 않아도 되기 때문이다······. 누군가를 ‘신적인 존재’로 부르면 ‘우리는 그와 경쟁할 필요가 없어진다.’”\n",
      "    \n",
      "\n",
      "      그렇다면 탁월성의 실체는 무엇인가? 니체가 내린 결론도 댄 챔블리스와 똑같았다. “사고를 한 방향으로 모아 모든 것을 소재로 활용하며 자신과 타인의 내면을 부단히 관찰하여 어디에서나 본보기와 자극을 찾아내고, 지칠 줄 모르고 자신의 방식으로 결합시키는”12 사람들이 위대한 업적을 이룬다.\n",
      "니체는 재능에 대해서는 뭐라고 했을까? 그는 누구보다도 장인을 본보기로 생각하라고 말한다. “소질과 타고난 재능에 대해 말하지 말라! 타고난 재능이 거의 없어도 위인이 된 이들을 여럿 들 수 있다. 그들은 탁월한 솜씨를 배워서 (우리가 이름 붙인 대로) ‘천재’가 되었다······. 그들은 모두 유능한 장인답게 작은 부분을 제대로 만드는 법부터 진지하게 배운 다음 전체를 구성하는 일에 조심스럽게 도전했다. 그들은 눈부신 전체에 감탄하기보다 작고 부수적인 것들을 잘 만드는 데서 즐거움을 느꼈기 때문에 거기에 충분한 시간을 할애했다.”13\n",
      "    \n",
      "\n",
      "      내가 지켜보니까 작가가 꿈이라고 말하지만 첫 단계에서 실패하고 실제로는 희곡 한 편, 책 한 권 쓰지 못하는 사람이 대다수입니다. 이에 비해, 일단 희곡이나 소설 한 편을 실제로 완성한 사람은 뒤이어 연극으로 상연하거나 책으로 출간하더군요.43\n",
      " \n",
      "좀 더 간결한 앨런의 표현에 따르자면 이렇다. “일단 출석만 하면 8할은 성공이다.”Eighty percent of success in life is showing up.44\n",
      "1980년대에 조지 부시George H. W. Bush 전 대통령과 마리오 쿠오모Mario Cuomo(전 뉴욕주지사 ― 옮긴이)가 연설에서 자주 인용한 덕택에 우디 앨런의 이 말은 밈meme(진화생물학자 리처드 도킨스Richard Dawkins가 제시한 용어로 유전적 방법이 아니라 모방을 통해 전해지는 문화 요소를 말한다. ― 옮긴이)처럼 되었다\n",
      "    \n",
      "\n",
      "      왜 정시에 출근하려고 신경을 쓰는가? 시간을 잘 지키고 싶기 때문이다. 왜 시간을 엄수하려고 하는가? 시간 엄수는 함께 일하는 사람들을 존중하는 마음을 보여주기 때문이다. 그것이 왜 중요한가? 훌륭한 지도자가 되고 싶기 때문이다.\n",
      "이런 식으로 “왜?”라는 질문을 스스로에게 하고 “왜냐하면······”이라는 답변을 계속 해나가다 보면 목표의 위계에서 최상위 목표에 이르게 된다. 최상위 목표는 다른 목적을 이루기 위한 수단이 아니다. 그 자체로 목적이다. 일부 심리학자는 최상위 목표를 ‘궁극적 관심’ultimate concern이라고 부른다.13 나는 최상위 목표를 모든 하위 목표에 방향과 의미를 제공하는 나침반으로 생각한다.\n",
      "    \n",
      "\n",
      "      언제라도 버핏과 한자리에 앉아 내 목표들을 함께 살펴본다면 (내 필요가 그의 목표 체계에 들 리 없으므로 가능하지 않겠지만) 그는 틀림없이 우선순위 정하기의 핵심은 시간과 에너지가 한정돼 있다는 사실을 직시하는 데 있다고 말해줄 것이다. 성공한 사람이라면 누구라도 할 일을 정하기 위해 하지 않아도 될 일부터 결정해야 할 때가 있다.\n",
      "    \n",
      "\n",
      "      이야기의 전말은 이렇다. 버핏은 충직한 전용기 조종사를 보면서 당신에게도 틀림없이 나를 행선지로 데려다주는 일 외에 큰 꿈이 있었지 않느냐고 물었다. 조종사가 그렇다고 대답하자 버핏은 우선순위를 정하는 3단계를 차근차근 설명해주었다.\n",
      "첫째, 직업상 목표 25개를 쓴다.\n",
      "둘째, 자신을 성찰해가면서 그중에 가장 중요한 목표 5개에 동그라미를 친다. 반드시 5개만 골라야 한다.\n",
      "셋째, 동그라미를 치지 않은 20개의 목표를 찬찬히 살핀다. 그 20개는 당신이 무슨 수를 써서라도 피해야 할 일이다. 당신의 신경을 분산시키고 시간과 에너지를 빼앗고 더 중요한 목표에서 시선을 앗아갈 일이기 때문이다.\n",
      "    \n",
      "\n",
      "      맨코프의 이야기는 끈질기게 상위 목표를 추구하려면 목표 체계 내의 하위 목표에 대해서는 어느 정도의 유연성이 필요하다는 역설적인 현실을 잘 보여준다. 자신의 상위 목표가 무엇인지 알 만큼 인생을 어느 정도 살고 고민도 거친 후에, 상위 목표는 잉크로 쓰더라도 하위 목표는 연필로 써야 한다. 그래서 때에 따라 수정하거나 혹은 전부 지우고 새로운 하위 목표를 대신 쓸 수 있어야 한다.\n",
      "    \n",
      "\n",
      "      사실 하위 목표를 포기하는 행동은 용인할 수 있을 뿐 아니라 때로는 꼭 필요하다. 원래 설정했던 하위 목표는 이를 대체할 수 있고 실현 가능성이 더 높은 목표가 나타나면 포기해야만 한다. 경로 변경이 필요한 또 하나의 경우는 다른 하위 목표, 즉 같은 목적을 달성할 수 있는 다른 수단이 더 효율적이거나 재미있다는 등의 이유로 원래 계획에 더 타당할 때다.\n",
      "어떤 장거리 여행이든 돌아갈 일이 생길 수 있다.\n",
      "하지만 상위 수준의 목표일수록 이를 고수하는 것이 옳다. 나도 개인적으로 연구비를 신청했다가 거절당하거나 실험에 실패했을 때 너무 연연하지 않으려고 노력한다. 그런 실패가 정말 쓰라리기는 하지만 너무 오래 곱씹어 생각하지 않고 넘긴다. 반면에 중간 목표는 쉽게 포기하지 않으며, 솔직히 나의 궁극적 목적, 피트 캐럴의 용어로는 내 인생철학을 바꾸는 일은 어떤 이유로든 포기한다는 것은 상상할 수 없다. 일단 모든 부품을 찾아서 조립한 내 나침반은 몇 주, 몇 달, 몇 년이 지나도 같은 방향을 가리킬 것이다.\n",
      "    \n",
      "\n",
      "      콕스는 연구 결과를 요약하며 이렇게 결론 내렸다. “지능이 최상위권은 아니지만 상위권에 속하면서 끈기가 유달리 강한 이들이, 지능이 최상위권이면서 끈기가 다소 부족한 이들보다 크게 성공할 것이다.”34\n",
      "    \n",
      "\n",
      "      플린 교수는 IQ 변화에 관한 기본적인 사실들로 이야기를 시작했다. 그는 수년에 걸쳐 측정해온 IQ 원점수를 검토하는 과정에서 일부 영역이 다른 영역보다 증가 폭이 크다는 사실을 발견했다. 그는 칠판 앞으로 가서 경사도가 큰 선을 그리며 추상적 사고를 측정하는 IQ검사 점수가 이렇게 큰 폭으로 증가했다고 말했다. 예를 들면 요즘은 많은 아동이 “개와 토끼는 어떤 점이 비슷할까요?”라는 질문에 대답할 수 있다. 아이들은 개와 토끼 둘 다 살아 있다거나 모두 동물이라고 대답할 것이다. 채점 안내서를 보면 이런 대답에는 절반의 점수만 준다고 되어 있다. 둘 다 포유동물이라고 대답하는 통찰력 있는 아이들에게는 점수를 다 준다. 그에 반해 1세기 전의 어린아이들은 어리둥절해하며 “개는 토끼를 쫓아가요.”라고 대답했을 것이다. 그런 대답은 0점이다.\n",
      "인류의 추상적 사고력은 점점 향상되고 있다.\n",
      "    \n",
      "\n",
      "      성숙의 원리는 이렇게 요약될 수 있다. 시간이 흐르면서 우리는 잊을 수 없는 인생의 교훈을 얻고, 점점 증가하는 상황의 요구에 맞춰 적응해간다. 그리고 점차 새로운 사고방식과 행동이 습관이 된다. 급기야 이전의 미성숙했던 자신을 기억도 할 수 없는 날이 온다. 우리는 적응하고, 그렇게 적응한 행동들이 반복되어, 마침내 스스로를 규정하는 정체성으로 발전한다. 내가 수집해온 그릿과 연령에 관한 자료들을 종합해보면 두 가지 설명과 일치한다. 하나는 우리가 성장해온 시대 문화에 의해 그릿이 결정된다는 것이며, 또 다른 하나는 나이가 들수록 그릿이 강해진다는 것이다. 두 설명 모두 사실일 수 있으며 둘 다 어느 정도는 사실이라고 생각한다. 어느 쪽이든 내가 수집한 자료에서 나온 스냅 사진은 그릿이 완전히 확정된 특성이 아님을 보여준다. 모든 측면의 심리적 특성처럼 그릿은 당신이 생각하는 것보다 유연하다.\n",
      " \n",
      "    \n",
      "\n",
      "      따라서 부모나 예비 부모 그리고 부모가 아닌 모든 연령대의 사람들에게 공부보다 놀이가 먼저라고 말해주고 싶다. 아직 열정의 대상을 정하지 못한 아이들에게는 하루에 몇 시간씩 부지런히 기술을 연마할 준비가 되기 전에 흥미를 자극하면서 빈둥거릴 시간이 반드시 필요하다. 물론 관심을 발전시키는 데는 시간과 에너지뿐만 아니라 어느 정도의 절제와 희생이 필요하다. 하지만 초보자들은 초반부터 기술이 향상됐으면 좋겠다는 생각에 사로잡히지 않는다. 그들은 몇 년 후의 일까지 생각하지 않는다. 일생의 길잡이가 될 최상위 수준의 목표가 무엇인지도 모른다. 그런 생각 없이 그저 즐길 뿐이다.\n",
      "다시 말해서 가장 성공한 전문가들도 처음에는 진지하지 않은 초보자였다.\n",
      "    \n",
      "\n",
      "      고등학교에 올라간 베저스는 집에 있는 차고를 발명과 실험을 하기 위한 실험실로 개조했다. 하루는 학교에서 베저스가 점심시간 후의 수업을 빼먹었다며 재키에게 전화를 했다. 그녀는 한참 후에 집으로 돌아온 베저스에게 오후에 어디를 갔었는지 물었다. 비행기 날개로 마찰과 양력 실험을 하게 해줄 교수를 알아보러 갔다는 아들의 대답에 재키는 이렇게 말했다. “그랬구나. 알았어. 정식으로 학교의 인정을 받고 실험할 수 있는지 알아보자.”\n",
      "베저스는 대학에서 컴퓨터공학과 전기공학을 전공했고 졸업 후에는 투자기금 관리 프로그램을 만들었다. 몇 년 후에 그는 세상에서 가장 긴 강의 이름을 딴 인터넷 서점 아마존닷컴을 구축했다.\n",
      "    \n",
      "\n",
      "      어머니는 카드를 치던 친구들이 가고 난 후에 내게 와서 격자에 번호를 매기고 뜻풀이를 쓰는 법을 알려주셨어요. 그게 내가 처음으로 만든 십자말풀이였죠.”36\n",
      "그 후에 쇼츠의 어머니는 나는 물론 어떤 어머니도 흉내 내기 힘든 진취적인 행동을 했다. “내가 십자말풀이를 만들자마자 어머니가 그걸 팔아보라고 권하셨어요. 작가인 어머니도 잡지나 신문에 당신의 글을 출판해달라고 투고하고는 하셨거든요. 내게 이런 관심사가 있다는 것을 보자마자 작품을 투고하는 방법부터 알려주셨죠.” 그가 말을 이었다. “나는 열네 살에 처음으로 십자말풀이를 팔았고 열여섯 살에는 퍼즐 잡지인 《델》Dell에 정기적으로 기고하게 됐어요.”37\n",
      "    \n",
      "\n",
      "      실비아는 초보자가 느끼는 새로움과 전문가가 느끼는 새로움이 다르다는 점을 강조한다. 초보자에게 새로움은 이전에 접촉한 적이 없는 대상이다. 반면에 전문가에게 새로움은 ‘이전과 미묘한 차이가 있는 대상’이다.\n",
      "\n",
      "    \n",
      "\n",
      "      윌리엄 제임스는 이렇게 말한다. “우리의 주의를 끄는 것은 새로움 속의 익숙함, 약간의 새로운 변화가 있는 익숙함이다.”46\n",
      "    \n"
     ]
    }
   ],
   "source": [
    "soup = BeautifulSoup(open(\"C:\\\\grit.html\", 'rt', encoding='UTF8').read(), 'html.parser')\n",
    "\n",
    "def change(str):\n",
    "    return str.replace('.”?<=', \"\")\n",
    "\n",
    "for t in soup.findAll('h3', {\"class\":\"title\"}):\n",
    "    title = t.get_text()\n",
    "\n",
    "\n",
    "highlight = soup.findAll('p', {\"class\":\"note_highlighter\"})\n",
    "data = soup.findAll('p', {\"class\":\"note_date\"})\n",
    "i=1\n",
    "for h in highlight:\n",
    "    a = change(h.get_text())\n",
    "    print(a)\n",
    "    i+=1"
   ]
  },
  {
   "cell_type": "code",
   "execution_count": null,
   "metadata": {},
   "outputs": [],
   "source": []
  },
  {
   "cell_type": "code",
   "execution_count": null,
   "metadata": {},
   "outputs": [],
   "source": []
  },
  {
   "cell_type": "code",
   "execution_count": 239,
   "metadata": {},
   "outputs": [
    {
     "name": "stdout",
     "output_type": "stream",
     "text": [
      "\n",
      "\n",
      "형광펜\n",
      "\n",
      "      “모든 완전한 것에 대해 우리는 그것이 어떻게 생겨났는지 묻지 않는다.” 니체는 말했다.8 대신 “우리는 마치 그것이 마법에 의해 땅에서 솟아난 것처럼 현재의 사실만을 즐긴다.”9\n",
      "    \n",
      "\n",
      "\n",
      "2017.04.02\n",
      "\n",
      "\n",
      "\n",
      "\n",
      "\n",
      "\n",
      "\n",
      "\n",
      "\n",
      "\n",
      " 삭제\n",
      "\n",
      "\n",
      "\n",
      "\n",
      "\n",
      "\n",
      "\n",
      "\n"
     ]
    }
   ],
   "source": [
    "soup = BeautifulSoup(open(\"C:\\\\grit.html\", 'rt', encoding='UTF8').read(), 'html.parser')\n",
    "\n",
    "high_list = soup.find(class_=\"note_list js_note_list\")\n",
    "print(high_list.get_text())\n",
    "#print(high_list[0].find(\"p\",{\"class\":\"note_date\"}))\n",
    "\n",
    "# for hl in high_list:\n",
    "#     d = hl.findAll(\"p\",{\"class\":\"note_date\"})\n",
    "#     h = hl.findAll(\"p\",{\"class\":\"note_highlighter\"})\n",
    "                  \n",
    "#     print(d + h)"
   ]
  },
  {
   "cell_type": "code",
   "execution_count": null,
   "metadata": {},
   "outputs": [],
   "source": []
  },
  {
   "cell_type": "code",
   "execution_count": null,
   "metadata": {},
   "outputs": [],
   "source": []
  },
  {
   "cell_type": "code",
   "execution_count": null,
   "metadata": {},
   "outputs": [],
   "source": []
  },
  {
   "cell_type": "code",
   "execution_count": null,
   "metadata": {},
   "outputs": [],
   "source": []
  },
  {
   "cell_type": "code",
   "execution_count": null,
   "metadata": {},
   "outputs": [],
   "source": []
  },
  {
   "cell_type": "code",
   "execution_count": null,
   "metadata": {},
   "outputs": [],
   "source": []
  },
  {
   "cell_type": "code",
   "execution_count": null,
   "metadata": {},
   "outputs": [],
   "source": []
  },
  {
   "cell_type": "code",
   "execution_count": null,
   "metadata": {},
   "outputs": [],
   "source": []
  },
  {
   "cell_type": "code",
   "execution_count": null,
   "metadata": {},
   "outputs": [],
   "source": []
  },
  {
   "cell_type": "code",
   "execution_count": null,
   "metadata": {},
   "outputs": [],
   "source": []
  },
  {
   "cell_type": "code",
   "execution_count": null,
   "metadata": {},
   "outputs": [],
   "source": []
  },
  {
   "cell_type": "code",
   "execution_count": null,
   "metadata": {},
   "outputs": [],
   "source": []
  },
  {
   "cell_type": "code",
   "execution_count": null,
   "metadata": {},
   "outputs": [],
   "source": []
  },
  {
   "cell_type": "code",
   "execution_count": null,
   "metadata": {},
   "outputs": [],
   "source": []
  },
  {
   "cell_type": "code",
   "execution_count": null,
   "metadata": {},
   "outputs": [],
   "source": []
  },
  {
   "cell_type": "code",
   "execution_count": null,
   "metadata": {},
   "outputs": [],
   "source": []
  },
  {
   "cell_type": "code",
   "execution_count": null,
   "metadata": {},
   "outputs": [],
   "source": []
  },
  {
   "cell_type": "code",
   "execution_count": null,
   "metadata": {},
   "outputs": [],
   "source": []
  },
  {
   "cell_type": "code",
   "execution_count": null,
   "metadata": {},
   "outputs": [],
   "source": []
  },
  {
   "cell_type": "code",
   "execution_count": null,
   "metadata": {},
   "outputs": [],
   "source": []
  },
  {
   "cell_type": "code",
   "execution_count": null,
   "metadata": {},
   "outputs": [],
   "source": []
  },
  {
   "cell_type": "code",
   "execution_count": null,
   "metadata": {},
   "outputs": [],
   "source": []
  },
  {
   "cell_type": "code",
   "execution_count": null,
   "metadata": {},
   "outputs": [],
   "source": []
  },
  {
   "cell_type": "code",
   "execution_count": null,
   "metadata": {},
   "outputs": [],
   "source": []
  },
  {
   "cell_type": "code",
   "execution_count": null,
   "metadata": {},
   "outputs": [],
   "source": []
  },
  {
   "cell_type": "code",
   "execution_count": null,
   "metadata": {},
   "outputs": [],
   "source": []
  },
  {
   "cell_type": "code",
   "execution_count": null,
   "metadata": {},
   "outputs": [],
   "source": []
  },
  {
   "cell_type": "code",
   "execution_count": null,
   "metadata": {},
   "outputs": [],
   "source": []
  },
  {
   "cell_type": "code",
   "execution_count": null,
   "metadata": {},
   "outputs": [],
   "source": []
  },
  {
   "cell_type": "code",
   "execution_count": null,
   "metadata": {},
   "outputs": [],
   "source": []
  },
  {
   "cell_type": "code",
   "execution_count": null,
   "metadata": {},
   "outputs": [],
   "source": []
  },
  {
   "cell_type": "code",
   "execution_count": null,
   "metadata": {},
   "outputs": [],
   "source": []
  },
  {
   "cell_type": "code",
   "execution_count": null,
   "metadata": {},
   "outputs": [],
   "source": []
  },
  {
   "cell_type": "code",
   "execution_count": null,
   "metadata": {},
   "outputs": [],
   "source": []
  },
  {
   "cell_type": "code",
   "execution_count": null,
   "metadata": {},
   "outputs": [],
   "source": []
  },
  {
   "cell_type": "code",
   "execution_count": null,
   "metadata": {},
   "outputs": [],
   "source": []
  },
  {
   "cell_type": "code",
   "execution_count": null,
   "metadata": {},
   "outputs": [],
   "source": []
  },
  {
   "cell_type": "code",
   "execution_count": null,
   "metadata": {},
   "outputs": [],
   "source": []
  },
  {
   "cell_type": "code",
   "execution_count": null,
   "metadata": {},
   "outputs": [],
   "source": []
  },
  {
   "cell_type": "code",
   "execution_count": null,
   "metadata": {},
   "outputs": [],
   "source": []
  },
  {
   "cell_type": "code",
   "execution_count": null,
   "metadata": {},
   "outputs": [],
   "source": []
  },
  {
   "cell_type": "code",
   "execution_count": null,
   "metadata": {},
   "outputs": [],
   "source": []
  },
  {
   "cell_type": "code",
   "execution_count": null,
   "metadata": {},
   "outputs": [],
   "source": []
  },
  {
   "cell_type": "code",
   "execution_count": null,
   "metadata": {},
   "outputs": [],
   "source": []
  },
  {
   "cell_type": "code",
   "execution_count": null,
   "metadata": {},
   "outputs": [],
   "source": []
  },
  {
   "cell_type": "code",
   "execution_count": null,
   "metadata": {},
   "outputs": [],
   "source": []
  },
  {
   "cell_type": "code",
   "execution_count": null,
   "metadata": {},
   "outputs": [],
   "source": []
  },
  {
   "cell_type": "code",
   "execution_count": null,
   "metadata": {},
   "outputs": [],
   "source": []
  },
  {
   "cell_type": "code",
   "execution_count": null,
   "metadata": {},
   "outputs": [],
   "source": []
  },
  {
   "cell_type": "code",
   "execution_count": null,
   "metadata": {},
   "outputs": [],
   "source": []
  },
  {
   "cell_type": "code",
   "execution_count": null,
   "metadata": {},
   "outputs": [],
   "source": []
  },
  {
   "cell_type": "code",
   "execution_count": null,
   "metadata": {},
   "outputs": [],
   "source": []
  },
  {
   "cell_type": "code",
   "execution_count": null,
   "metadata": {},
   "outputs": [],
   "source": []
  },
  {
   "cell_type": "code",
   "execution_count": null,
   "metadata": {},
   "outputs": [],
   "source": []
  },
  {
   "cell_type": "code",
   "execution_count": null,
   "metadata": {},
   "outputs": [],
   "source": []
  },
  {
   "cell_type": "code",
   "execution_count": null,
   "metadata": {},
   "outputs": [],
   "source": []
  },
  {
   "cell_type": "code",
   "execution_count": null,
   "metadata": {},
   "outputs": [],
   "source": []
  },
  {
   "cell_type": "code",
   "execution_count": null,
   "metadata": {},
   "outputs": [],
   "source": []
  },
  {
   "cell_type": "code",
   "execution_count": null,
   "metadata": {},
   "outputs": [],
   "source": []
  },
  {
   "cell_type": "code",
   "execution_count": null,
   "metadata": {},
   "outputs": [],
   "source": []
  },
  {
   "cell_type": "code",
   "execution_count": null,
   "metadata": {},
   "outputs": [],
   "source": []
  },
  {
   "cell_type": "code",
   "execution_count": null,
   "metadata": {},
   "outputs": [],
   "source": []
  },
  {
   "cell_type": "code",
   "execution_count": null,
   "metadata": {},
   "outputs": [],
   "source": []
  },
  {
   "cell_type": "code",
   "execution_count": null,
   "metadata": {},
   "outputs": [],
   "source": []
  },
  {
   "cell_type": "code",
   "execution_count": null,
   "metadata": {},
   "outputs": [],
   "source": []
  },
  {
   "cell_type": "code",
   "execution_count": null,
   "metadata": {},
   "outputs": [],
   "source": []
  },
  {
   "cell_type": "code",
   "execution_count": null,
   "metadata": {},
   "outputs": [],
   "source": []
  },
  {
   "cell_type": "code",
   "execution_count": null,
   "metadata": {},
   "outputs": [],
   "source": []
  },
  {
   "cell_type": "code",
   "execution_count": null,
   "metadata": {},
   "outputs": [],
   "source": []
  },
  {
   "cell_type": "code",
   "execution_count": null,
   "metadata": {},
   "outputs": [],
   "source": []
  },
  {
   "cell_type": "code",
   "execution_count": null,
   "metadata": {},
   "outputs": [],
   "source": []
  },
  {
   "cell_type": "code",
   "execution_count": null,
   "metadata": {},
   "outputs": [],
   "source": []
  },
  {
   "cell_type": "code",
   "execution_count": null,
   "metadata": {},
   "outputs": [],
   "source": []
  },
  {
   "cell_type": "code",
   "execution_count": null,
   "metadata": {},
   "outputs": [],
   "source": []
  },
  {
   "cell_type": "code",
   "execution_count": 85,
   "metadata": {},
   "outputs": [
    {
     "name": "stdout",
     "output_type": "stream",
     "text": [
      "../img/gifts/img1.jpg\n",
      "../img/gifts/img2.jpg\n",
      "../img/gifts/img3.jpg\n",
      "../img/gifts/img4.jpg\n",
      "../img/gifts/img6.jpg\n"
     ]
    }
   ],
   "source": [
    "html = urlopen(\"http://www.pythonscraping.com/pages/page3.html\")\n",
    "\n",
    "bsObj = BeautifulSoup(html, \"html.parser\")\n",
    "images = bsObj.findAll(\"img\", {\"src\":re.compile(\"\\.\\.\\/img\\/gifts/img.*\\.jpg\")})\n",
    "for image in images:\n",
    "    print(image[\"src\"])"
   ]
  }
 ],
 "metadata": {
  "kernelspec": {
   "display_name": "Python 3",
   "language": "python",
   "name": "python3"
  },
  "language_info": {
   "codemirror_mode": {
    "name": "ipython",
    "version": 3
   },
   "file_extension": ".py",
   "mimetype": "text/x-python",
   "name": "python",
   "nbconvert_exporter": "python",
   "pygments_lexer": "ipython3",
   "version": "3.6.2"
  }
 },
 "nbformat": 4,
 "nbformat_minor": 2
}
